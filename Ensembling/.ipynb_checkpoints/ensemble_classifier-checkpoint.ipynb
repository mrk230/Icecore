{
 "cells": [
  {
   "cell_type": "markdown",
   "metadata": {},
   "source": [
    "# Ensembling"
   ]
  },
  {
   "cell_type": "code",
   "execution_count": 8,
   "metadata": {},
   "outputs": [
    {
     "name": "stdout",
     "output_type": "stream",
     "text": [
      "0    31\n",
      "1    29\n",
      "Name: is_iceberg, dtype: int64\n",
      "1604\n",
      "60\n",
      "1544\n",
      "complete\n"
     ]
    }
   ],
   "source": [
    "# find good indices to keep for the final classifier trainer\n",
    "# load data\n",
    "import pandas as pd\n",
    "import numpy as np\n",
    "import random\n",
    "random.seed(17332)\n",
    "\n",
    "training_path = \"../../Test_data/train.json\"\n",
    "testing_path = \"../../Test_data/test.json\"\n",
    "\n",
    "train_data = pd.read_json(training_path)\n",
    "#test_data = pd.read_json(testing_path)\n",
    "\n",
    "# the majority of the na's are 1508:\n",
    "nums = random.sample(range(0,1507),60)\n",
    "\n",
    "#train_data.inc_angle = train_data.inc_angle.replace('na',0)\n",
    "# idx_tr = np.where(train_data.inc_angle==0)\n",
    "\n",
    "hold_out_train = train_data.iloc[nums]\n",
    "new_train = train_data.loc[~train_data.index.isin(list(nums))]\n",
    "\n",
    "\n",
    "\n",
    "# get distribution of classes\n",
    "bergs = hold_out_train['is_iceberg'].value_counts()\n",
    "print(bergs)\n",
    "\n",
    "print(len(train_data))\n",
    "print(len(hold_out_train))\n",
    "print(len(new_train))\n",
    "#print(train_data.tail(5))\n",
    "\n",
    "print('complete')"
   ]
  },
  {
   "cell_type": "code",
   "execution_count": 9,
   "metadata": {},
   "outputs": [
    {
     "name": "stdout",
     "output_type": "stream",
     "text": [
      "         id     basic       inc     trans inc_angle  is_iceberg\n",
      "0  30911a15  0.002004  0.061473  0.014261   39.6382           0\n",
      "1  388c5565  0.998357  0.963781  0.941938   35.2987           1\n",
      "2  13c7bc95  0.877538  0.656549  0.690479   42.5848           1\n",
      "3  8c733ab0  0.000116  0.007244  0.000079   43.9011           0\n",
      "4  d4bb8bac  0.000443  0.347724  0.000101   44.4612           0\n"
     ]
    }
   ],
   "source": [
    "# get the data together\n",
    "\n",
    "# load model submissions\n",
    "basic_model = pd.read_csv(\"sub_full_basic_ensem.csv\")\n",
    "inc_model = pd.read_csv(\"sub_full_inc2_ensem.csv\")\n",
    "trans_model = pd.read_csv(\"sub_full_transfer_incV3_ensem.csv\")\n",
    "\n",
    "# load and concat the inc angles and iceberg response\n",
    "ids = hold_out_train[\"id\"]\n",
    "inc_angles = hold_out_train[\"inc_angle\"]\n",
    "inc_id = pd.concat([ids, inc_angles], axis = 1)\n",
    "\n",
    "bergs = hold_out_train[\"is_iceberg\"]\n",
    "berg_id = pd.concat([ids, bergs], axis = 1)\n",
    "\n",
    "# start merging\n",
    "merged = pd.merge(basic_model, inc_model, how='inner', on='id')\n",
    "merged = pd.merge(merged, trans_model, how='inner', on='id')\n",
    "\n",
    "merged.rename(index=str, columns={\"is_iceberg_x\": \"basic\",\n",
    "                                  \"is_iceberg_y\": \"inc\",\n",
    "                                 \"is_iceberg\": \"trans\"}, inplace=True)\n",
    "\n",
    "merged = pd.merge(merged, inc_id, how='inner', on='id')\n",
    "merged = pd.merge(merged, berg_id, how='inner', on='id')\n",
    "\n",
    "# merged_drop = merged.drop(['id'], axis=1)\n",
    "\n",
    "print(merged.head(5))\n",
    "\n"
   ]
  },
  {
   "cell_type": "code",
   "execution_count": 22,
   "metadata": {},
   "outputs": [
    {
     "name": "stdout",
     "output_type": "stream",
     "text": [
      "X train: 54\n",
      "X test: 6\n",
      "y train: 54\n",
      "y test: 6\n"
     ]
    },
    {
     "name": "stderr",
     "output_type": "stream",
     "text": [
      "/home/ubuntu/anaconda3/envs/tensorflow_p36/lib/python3.6/site-packages/ipykernel_launcher.py:23: DataConversionWarning: A column-vector y was passed when a 1d array was expected. Please change the shape of y to (n_samples,), for example using ravel().\n"
     ]
    },
    {
     "name": "stdout",
     "output_type": "stream",
     "text": [
      "confusion matrix:\n",
      "[[2 0]\n",
      " [1 3]]\n",
      " \n",
      "accuracy:  0.833333333333\n",
      "feature importance\n",
      "[('basic', 0.3224271427535228), ('inc', 0.36254256330542833), ('trans', 0.25298293569383673), ('inc_angle', 0.06204735824721299)]\n"
     ]
    },
    {
     "data": {
      "image/png": "[encoded data removed]",
      "text/plain": [
       "<matplotlib.figure.Figure at 0x7fdcd6063eb8>"
      ]
     },
     "metadata": {},
     "output_type": "display_data"
    },
    {
     "data": {
      "image/png": "[encoded data removed]",
      "text/plain": [
       "<matplotlib.figure.Figure at 0x7fdc81793e10>"
      ]
     },
     "metadata": {},
     "output_type": "display_data"
    }
   ],
   "source": [
    "# more preprocessing/ model creation, fitting\n",
    "from sklearn.cross_validation import train_test_split\n",
    "from sklearn.metrics import confusion_matrix\n",
    "from sklearn.metrics import accuracy_score\n",
    "from sklearn.ensemble import RandomForestClassifier\n",
    "import numpy as np\n",
    "import matplotlib.pyplot as plt\n",
    "\n",
    "#newDf    = Df.loc[:,['Vibration','eccentricity']]\n",
    "X = merged.loc[:,['basic', 'inc', 'trans', 'inc_angle']]\n",
    "y = merged.loc[:,['is_iceberg']]\n",
    "\n",
    "X_train, X_test, y_train, y_test = train_test_split(X, y, test_size=0.1, random_state=42)\n",
    "\n",
    "print(\"X train:\", len(X_train))\n",
    "print(\"X test:\", len(X_test))\n",
    "print(\"y train:\", len(y_train))\n",
    "print(\"y test:\", len(y_test))\n",
    "\n",
    "clf = RandomForestClassifier(n_estimators = 1000, n_jobs=2, random_state=0)\n",
    "\n",
    "# fit model\n",
    "clf.fit(X_train, y_train)\n",
    "\n",
    "# get predictions and evaluate\n",
    "preds = clf.predict(X_test)\n",
    "\n",
    "print(\"confusion matrix:\")\n",
    "print(confusion_matrix(y_test, preds, labels=[0,1]))\n",
    "print(\" \")\n",
    "print(\"accuracy: \", accuracy_score(y_test, preds))\n",
    "\n",
    "\n",
    "\n",
    "# feature importance\n",
    "print(\"feature importance\")\n",
    "print(list(zip(X_train, clf.feature_importances_)))\n",
    "\n",
    "feat_imp = list(zip(X_train, clf.feature_importances_))\n",
    "# visualize top feature importances\n",
    "# sorting top down\n",
    "imp_sorted = sorted(feat_imp, key=lambda tup: tup[1], reverse=True)\n",
    "\n",
    "# save each seperately\n",
    "feat = [x[0] for x in imp_sorted]\n",
    "score = [x[1] for x in imp_sorted]\n",
    "x_pos = np.arange(len(imp_sorted))\n",
    "\n",
    "\n",
    "# plot the top 20\n",
    "# cant read the names, whatever, can see elbow is around 9\n",
    "plt.bar(x_pos[:20], score[:20],align='center')\n",
    "plt.xticks(x_pos[:20], feat[:20]) \n",
    "plt.ylabel('Feature Importance')\n",
    "plt.show()\n",
    "\n",
    "# showing the top 9\n",
    "plt.bar(x_pos[:9], score[:9],align='center')\n",
    "plt.xticks(x_pos[:9], feat[:9]) \n",
    "plt.ylabel('Feature Importance')\n",
    "plt.show()"
   ]
  }
 ],
 "metadata": {
  "kernelspec": {
   "display_name": "Python 3",
   "language": "python",
   "name": "python3"
  },
  "language_info": {
   "codemirror_mode": {
    "name": "ipython",
    "version": 3
   },
   "file_extension": ".py",
   "mimetype": "text/x-python",
   "name": "python",
   "nbconvert_exporter": "python",
   "pygments_lexer": "ipython3",
   "version": "3.6.3"
  }
 },
 "nbformat": 4,
 "nbformat_minor": 2
}
