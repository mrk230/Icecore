{
 "cells": [
  {
   "cell_type": "markdown",
   "metadata": {},
   "source": [
    "# Kaggle Icecore challenge\n",
    "\n",
    "Outline:\n",
    "\n",
    "- minor exploratory stuff (class numbers, na's with incidence angle, etc)\n",
    "\n",
    "- Get baseline up with a vgg or inception arch on each image, and then for  final classification, pick whichever has a higher softmax output\n",
    "\n",
    "- try image concatention like I did at aerospace, with no fine tuning\n",
    "\n",
    "- try with fine tuning (somehow make it 3?)\n",
    "\n",
    "- try ensembling different models (like vgg, inception, resnet)\n",
    "\n",
    "- Then, try double vgg or inception like structure, concatenating on the    dense layers, with no fine tuing\n",
    "\n",
    "- then with fine tuning\n",
    "\n",
    "- try some including and excluding adding the incidence angle at the dense layers or end \n",
    "\n",
    "- Also, be careful with augmentation and the incidence angles, it may cause them to mess up, so it could be better to just leave incidence angles out if it allows us to do more aug\n",
    "\n",
    "\n",
    "\n",
    "- **** Also, want to try to predict the missing incidence angles from the \n",
    " rest of the ones we have, otherwise would have to throw out 133 images\n",
    "\n",
    "- **** Also, need to examine the normalization, and potentially converting from decible values to something else, and then normalizing"
   ]
  },
  {
   "cell_type": "code",
   "execution_count": 10,
   "metadata": {},
   "outputs": [
    {
     "name": "stdout",
     "output_type": "stream",
     "text": [
      "total data points in testing:  8424\n",
      "total data points in training:  1604\n",
      "number of non missing inc_angles:  1471\n",
      "number of missing inc_angles:  133\n",
      "percent missing inc_angles:  0.09041468388851122\n"
     ]
    },
    {
     "data": {
      "image/png": "[encoded data removed]",
      "text/plain": [
       "<matplotlib.figure.Figure at 0x7fcc8f505198>"
      ]
     },
     "metadata": {},
     "output_type": "display_data"
    }
   ],
   "source": [
    "# exploratory stuff\n",
    "import pandas as pd\n",
    "import numpy as np\n",
    "import matplotlib.pyplot as plt\n",
    "\n",
    "\n",
    "training_path = \"../Test_data/train.json\"\n",
    "testing_path = \"../Test_data/test.json\"\n",
    "\n",
    "train_data = pd.read_json(training_path)\n",
    "test_data = pd.read_json(testing_path)\n",
    "\n",
    "# get list of angles/classes, len train data\n",
    "is_icebergs = [x for x in train_data[\"is_iceberg\"]]\n",
    "inc_angles = [y for y in train_data[\"inc_angle\"] if isinstance(y, float)]\n",
    "inc_nas = [y for y in train_data[\"inc_angle\"] if isinstance(y, str)]\n",
    "\n",
    "print(\"total data points in testing: \", len(test_data))\n",
    "print(\"total data points in training: \", len(train_data))\n",
    "print(\"number of non missing inc_angles: \", len(inc_angles))\n",
    "print(\"number of missing inc_angles: \", len(inc_nas))\n",
    "print(\"percent missing inc_angles: \", float(len(inc_nas))/float(len(inc_angles)))\n",
    "\n",
    "plt.subplot(1, 2, 1)\n",
    "plt.hist(inc_angles, bins = 60)\n",
    "plt.title('Incidence Angle Histogram')\n",
    "\n",
    "plt.subplot(1, 2, 2)\n",
    "plt.hist(is_icebergs, bins = 2)\n",
    "plt.title('Class Occurences')\n",
    "plt.xlabel('1 = Iceberg, 0 = Ship')\n",
    "\n",
    "plt.show()"
   ]
  },
  {
   "cell_type": "markdown",
   "metadata": {},
   "source": [
    "# Notes\n",
    "\n",
    "- The classes seem to be pretty evenly balanced, maybe about 100 less icebergs, could fix that\n",
    "\n",
    "- the incidence angles seem a little right tailed, with a lot of them coming from exactly the same angles, interesting"
   ]
  },
  {
   "cell_type": "code",
   "execution_count": 12,
   "metadata": {},
   "outputs": [
    {
     "name": "stdout",
     "output_type": "stream",
     "text": [
      "band_1\n",
      "DescribeResult(nobs=56407500, minmax=(-45.680545806884766, 37.090522999999997), mean=-22.159242988927875, variance=28.424440324407545, skewness=0.8502589192712555, kurtosis=2.3675551655768574)\n",
      " \n",
      "band_2\n",
      "DescribeResult(nobs=56407500, minmax=(-49.083500000000001, 37.090522766113281), mean=-24.953674182125951, variance=20.669753971968337, skewness=1.30140098134072, kurtosis=4.262312862918784)\n"
     ]
    },
    {
     "data": {
      "image/png": "[encoded data removed]",
      "text/plain": [
       "<matplotlib.figure.Figure at 0x7fcc82e45cf8>"
      ]
     },
     "metadata": {},
     "output_type": "display_data"
    }
   ],
   "source": [
    "# need to get our data all sorted first, as well as normalize\n",
    "# examining the possible values these scatterback radar's can make\n",
    "# they are floats, with units in dB's\n",
    "\n",
    "from scipy import stats\n",
    "\n",
    "band1s = []\n",
    "for i in train_data[\"band_1\"]:\n",
    "    for j in i:\n",
    "        band1s.append(j)\n",
    "        \n",
    "for w in test_data[\"band_1\"]:\n",
    "    for z in w:\n",
    "        band1s.append(z)\n",
    "        \n",
    "band2s = []\n",
    "for r in train_data[\"band_2\"]:\n",
    "    for k in r:\n",
    "        band2s.append(k)\n",
    "        \n",
    "for l in test_data[\"band_2\"]:\n",
    "    for s in l:\n",
    "        band2s.append(s)\n",
    "\n",
    "print(\"band_1\")\n",
    "print(stats.describe(band1s))\n",
    "print(\" \")\n",
    "print(\"band_2\")\n",
    "print(stats.describe(band2s))\n",
    "        \n",
    "plt.subplot(1, 2, 1)\n",
    "plt.hist(band1s, bins = 60)\n",
    "plt.title('band_1')\n",
    "\n",
    "plt.subplot(1, 2, 2)\n",
    "plt.hist(band2s, bins = 60)\n",
    "plt.title('band_2')\n",
    "\n",
    "plt.show()"
   ]
  },
  {
   "cell_type": "markdown",
   "metadata": {},
   "source": [
    "# Notes\n",
    "\n",
    "- the decible values seem to be almost exactly normally distributed for band_1, band_2 may have a little right tailed\n",
    "\n",
    "- band_1 min = -45, max = 37, 2 stds = 10\n",
    "- band_2 min = -49, max = 37, 2 stds = 8.5\n",
    "\n",
    "\n",
    "Normalizing decibal values can be weird, might want to look at converting them first, and them normalizing. For now, going to get a baseline without any normalization or conversion first"
   ]
  },
  {
   "cell_type": "code",
   "execution_count": null,
   "metadata": {},
   "outputs": [],
   "source": [
    "## baseline modeling (doing it without normalization, or regularization)\n"
   ]
  },
  {
   "cell_type": "code",
   "execution_count": null,
   "metadata": {},
   "outputs": [],
   "source": [
    "## Useful code snippets\n",
    "\n",
    "# turn the flattened 'image' into 75 x 75\n",
    "np.array(band).astype(np.float32).reshape(75, 75)\n",
    "\n",
    "# concat them all together (should try more than just averging the two)\n",
    "X_train = np.concatenate([X_band_1[:, :, :, np.newaxis],\n",
    "                X_band_2[:, :, :, np.newaxis], \n",
    "                          ((X_band_1+X_band_2)/2)[:, :, :, np.newaxis]],\n",
    "                         axis=-1)"
   ]
  }
 ],
 "metadata": {
  "kernelspec": {
   "display_name": "Environment (conda_tensorflow_p36)",
   "language": "python",
   "name": "conda_tensorflow_p36"
  },
  "language_info": {
   "codemirror_mode": {
    "name": "ipython",
    "version": 3
   },
   "file_extension": ".py",
   "mimetype": "text/x-python",
   "name": "python",
   "nbconvert_exporter": "python",
   "pygments_lexer": "ipython3",
   "version": "3.6.3"
  }
 },
 "nbformat": 4,
 "nbformat_minor": 2
}
