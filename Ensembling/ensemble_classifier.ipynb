{
 "cells": [
  {
   "cell_type": "markdown",
   "metadata": {},
   "source": [
    "# Create Ensemble Classifier"
   ]
  },
  {
   "cell_type": "code",
   "execution_count": 2,
   "metadata": {},
   "outputs": [
    {
     "name": "stdout",
     "output_type": "stream",
     "text": [
      "0    31\n",
      "1    29\n",
      "Name: is_iceberg, dtype: int64\n",
      "1604\n",
      "60\n",
      "1544\n",
      "complete\n"
     ]
    }
   ],
   "source": [
    "# find good indices to keep for the final classifier trainer\n",
    "# load data\n",
    "import pandas as pd\n",
    "import numpy as np\n",
    "import random\n",
    "random.seed(17332)\n",
    "\n",
    "training_path = \"../../Test_data/train.json\"\n",
    "testing_path = \"../../Test_data/test.json\"\n",
    "\n",
    "train_data = pd.read_json(training_path)\n",
    "#test_data = pd.read_json(testing_path)\n",
    "\n",
    "# the majority of the na's are 1508:\n",
    "nums = random.sample(range(0,1507),60)\n",
    "\n",
    "#train_data.inc_angle = train_data.inc_angle.replace('na',0)\n",
    "# idx_tr = np.where(train_data.inc_angle==0)\n",
    "\n",
    "hold_out_train = train_data.iloc[nums]\n",
    "new_train = train_data.loc[~train_data.index.isin(list(nums))]\n",
    "\n",
    "\n",
    "\n",
    "# get distribution of classes\n",
    "bergs = hold_out_train['is_iceberg'].value_counts()\n",
    "print(bergs)\n",
    "\n",
    "print(len(train_data))\n",
    "print(len(hold_out_train))\n",
    "print(len(new_train))\n",
    "#print(train_data.tail(5))\n",
    "\n",
    "print('complete')"
   ]
  },
  {
   "cell_type": "code",
   "execution_count": 3,
   "metadata": {},
   "outputs": [
    {
     "name": "stdout",
     "output_type": "stream",
     "text": [
      "         id     basic       inc     trans inc_angle  is_iceberg\n",
      "0  30911a15  0.002004  0.061473  0.014261   39.6382           0\n",
      "1  388c5565  0.998357  0.963781  0.941938   35.2987           1\n",
      "2  13c7bc95  0.877538  0.656549  0.690479   42.5848           1\n",
      "3  8c733ab0  0.000116  0.007244  0.000079   43.9011           0\n",
      "4  d4bb8bac  0.000443  0.347724  0.000101   44.4612           0\n"
     ]
    }
   ],
   "source": [
    "# get the data together\n",
    "\n",
    "# load model submissions\n",
    "basic_model = pd.read_csv(\"sub_full_basic_ensem.csv\")\n",
    "inc_model = pd.read_csv(\"sub_full_inc2_ensem.csv\")\n",
    "trans_model = pd.read_csv(\"sub_full_transfer_incV3_ensem.csv\")\n",
    "\n",
    "# load and concat the inc angles and iceberg response\n",
    "ids = hold_out_train[\"id\"]\n",
    "inc_angles = hold_out_train[\"inc_angle\"]\n",
    "inc_id = pd.concat([ids, inc_angles], axis = 1)\n",
    "\n",
    "bergs = hold_out_train[\"is_iceberg\"]\n",
    "berg_id = pd.concat([ids, bergs], axis = 1)\n",
    "\n",
    "# start merging\n",
    "merged = pd.merge(basic_model, inc_model, how='inner', on='id')\n",
    "merged = pd.merge(merged, trans_model, how='inner', on='id')\n",
    "\n",
    "merged.rename(index=str, columns={\"is_iceberg_x\": \"basic\",\n",
    "                                  \"is_iceberg_y\": \"inc\",\n",
    "                                 \"is_iceberg\": \"trans\"}, inplace=True)\n",
    "\n",
    "merged = pd.merge(merged, inc_id, how='inner', on='id')\n",
    "merged = pd.merge(merged, berg_id, how='inner', on='id')\n",
    "\n",
    "# merged_drop = merged.drop(['id'], axis=1)\n",
    "\n",
    "print(merged.head(5))\n",
    "\n"
   ]
  },
  {
   "cell_type": "code",
   "execution_count": 57,
   "metadata": {},
   "outputs": [
    {
     "name": "stdout",
     "output_type": "stream",
     "text": [
      "        basic       inc     trans inc_angle  is_iceberg\n",
      "75   0.695324  0.559608  0.508705   44.1864           1\n",
      "27   0.961777  0.768645  0.950849   45.2714           1\n",
      "40   0.012635  0.141305  0.019585   34.7715           0\n",
      "44   0.882883  0.913473  0.985211    42.559           1\n",
      "32   0.296301  0.276056  0.042057   33.9014           0\n",
      "45   0.995226  0.996165  0.999950   42.5644           1\n",
      "83   0.000100  0.164095  0.075448   43.6588           0\n",
      "3    0.000116  0.007244  0.000079   43.9011           0\n",
      "41   0.970926  0.888066  0.991794   38.4755           1\n",
      "67   0.999900  0.905621  0.999900   31.9828           1\n",
      "7    0.988838  0.935425  0.999803   33.6383           1\n",
      "109  0.699645  0.858320  0.733305   34.9691           0\n",
      "101  0.961082  0.964407  0.999900   39.4696           1\n",
      "82   0.125324  0.337094  0.023344   42.7643           0\n",
      "110  0.050582  0.522720  0.022634   40.2459           0\n",
      "70   0.999900  0.888019  0.930383   36.8462           1\n",
      "117  0.125947  0.112724  0.061317    41.448           0\n",
      "2    0.877538  0.656549  0.690479   42.5848           1\n",
      "36   0.958956  0.716786  0.995416   45.2814           1\n",
      "57   0.118602  0.010933  0.095879   43.2674           0\n",
      "16   0.051977  0.237998  0.007812   33.9178           0\n",
      "100  0.024510  0.080837  0.000100    33.664           0\n",
      "85   0.034853  0.311379  0.005096   45.7883           0\n",
      "20   0.993722  0.884808  0.989880   38.4591           1\n",
      "21   0.699933  0.405793  0.063678    45.383           0\n",
      "99   0.682466  0.759103  0.848297   39.4421           0\n",
      "86   0.000100  0.080210  0.000100   39.7005           0\n",
      "38   0.895723  0.747841  0.989402   35.3127           1\n",
      "39   0.529559  0.707483  0.761009    38.744           0\n",
      "104  0.713891  0.879992  0.892415   41.8917           1\n",
      "..        ...       ...       ...       ...         ...\n",
      "74   0.037372  0.041261  0.005807   37.7901           0\n",
      "53   0.056713  0.172788  0.020139   36.6286           0\n",
      "72   0.999900  0.796809  0.957021   37.2548           1\n",
      "73   0.485521  0.236526  0.000100   37.9067           1\n",
      "33   0.000465  0.005370  0.001970   40.2988           0\n",
      "88   0.007224  0.059747  0.053304   44.1218           0\n",
      "9    0.399276  0.459332  0.026767     37.97           0\n",
      "30   0.001028  0.027351  0.000318    35.713           0\n",
      "1    0.998357  0.963781  0.941938   35.2987           1\n",
      "96   0.976200  0.693786  0.999900    43.201           1\n",
      "14   0.000317  0.008299  0.000223   35.7829           0\n",
      "112  0.963993  0.582983  0.573077   36.8365           1\n",
      "93   0.000100  0.000100  0.035366    42.352           0\n",
      "69   0.430172  0.385865  0.000100   38.5081           0\n",
      "108  0.999900  0.922352  0.999900   41.8391           1\n",
      "34   0.000550  0.011870  0.001207   37.3669           0\n",
      "102  0.384160  0.656452  0.029604   45.9336           1\n",
      "35   0.994351  0.655209  0.993823   39.9796           1\n",
      "22   0.239738  0.245832  0.018094   42.5075           0\n",
      "17   0.000049  0.000369  0.000110    35.675           0\n",
      "6    0.574081  0.317949  0.255668   43.3049           0\n",
      "91   0.974213  0.821903  0.751180   41.4832           1\n",
      "28   0.043729  0.154875  0.085519   43.7878           0\n",
      "113  0.151716  0.174695  0.000100   38.0532           0\n",
      "42   0.259669  0.674479  0.061468   44.6201           1\n",
      "8    0.408979  0.513940  0.336989   43.9204           1\n",
      "118  0.000100  0.000100  0.000100   43.3758           0\n",
      "50   0.069835  0.530121  0.009762   42.5145           0\n",
      "84   0.999900  0.660698  0.948510   35.5423           1\n",
      "77   0.032655  0.000100  0.000100    37.924           0\n",
      "\n",
      "[120 rows x 5 columns]\n",
      "120\n"
     ]
    }
   ],
   "source": [
    "# add some noise to the data\n",
    "# create individual 'noised' columns for each, doubling size of data\n",
    "from sklearn.utils import shuffle\n",
    "\n",
    "basic_noise = np.random.normal(0, 0.06, [60])\n",
    "inc_noise = np.random.normal(0, 0.06, [60])\n",
    "trans_noise = np.random.normal(0, 0.06, [60])\n",
    "angle_noise = np.random.normal(0, 1.5, [60])\n",
    "\n",
    "basic_fake = np.clip(merged.basic + basic_noise, 0.0001, .9999)\n",
    "new_basic = pd.concat([merged.basic, basic_fake], axis = 0)\n",
    "\n",
    "inc_fake = np.clip(merged.inc + inc_noise, 0.0001, .9999)\n",
    "new_inc = pd.concat([merged.inc, inc_fake], axis = 0)\n",
    "\n",
    "trans_fake = np.clip(merged.trans + trans_noise, 0.0001, .9999)\n",
    "new_trans = pd.concat([merged.trans, trans_fake], axis = 0)\n",
    "\n",
    "angle_fake = merged.inc_angle + angle_noise\n",
    "new_angle = pd.concat([merged.inc_angle, angle_fake], axis = 0)\n",
    "\n",
    "new_berg = pd.concat([merged.is_iceberg, merged.is_iceberg], axis = 0)\n",
    "\n",
    "\n",
    "new_data = pd.concat([new_basic, new_inc, new_trans, new_angle, new_berg], axis = 1)\n",
    "new_data = new_data.reset_index(drop=True)\n",
    "new_data = shuffle(new_data)\n",
    "print(new_data)\n",
    "print(len(new_data))\n",
    "#print(len(basic_fake))"
   ]
  },
  {
   "cell_type": "code",
   "execution_count": 64,
   "metadata": {},
   "outputs": [
    {
     "name": "stdout",
     "output_type": "stream",
     "text": [
      "X train: 84\n",
      "X test: 36\n",
      "y train: 84\n",
      "y test: 36\n"
     ]
    },
    {
     "name": "stderr",
     "output_type": "stream",
     "text": [
      "/home/ubuntu/anaconda3/envs/tensorflow_p36/lib/python3.6/site-packages/ipykernel_launcher.py:23: DataConversionWarning: A column-vector y was passed when a 1d array was expected. Please change the shape of y to (n_samples,), for example using ravel().\n"
     ]
    },
    {
     "name": "stdout",
     "output_type": "stream",
     "text": [
      "[0.98999999999999999, 0.98999999999999999, 0.02, 0.98999999999999999, 0.01, 0.050000000000000003, 0.98999999999999999, 0.98999999999999999, 0.56000000000000005, 0.98999999999999999, 0.98999999999999999, 0.01, 0.45000000000000001, 0.85999999999999999, 0.98999999999999999, 0.01, 0.01, 0.71999999999999997, 0.01, 0.98999999999999999, 0.87, 0.41999999999999998, 0.98999999999999999, 0.98999999999999999, 0.01, 0.98999999999999999, 0.98999999999999999, 0.28999999999999998, 0.01, 0.01, 0.32000000000000001, 0.070000000000000007, 0.13, 0.47999999999999998, 0.46999999999999997, 0.26000000000000001]\n",
      "[1 1 0 1 0 0 1 1 1 1 1 0 0 1 1 0 0 1 0 1 1 0 1 1 0 1 1 0 0 0 0 0 0 0 0 0]\n",
      "confusion matrix:\n",
      "[[16  0]\n",
      " [ 3 17]]\n",
      " \n",
      "accuracy:  0.916666666667\n",
      "feature importance\n",
      "[('basic', 0.43140090347019178), ('inc', 0.23329045181167193), ('trans', 0.2731245446639004), ('inc_angle', 0.062184100054235941)]\n"
     ]
    },
    {
     "data": {
      "image/png": "[encoded data removed]",
      "text/plain": [
       "<matplotlib.figure.Figure at 0x7f747f2552b0>"
      ]
     },
     "metadata": {},
     "output_type": "display_data"
    },
    {
     "data": {
      "image/png": "[encoded data removed]",
      "text/plain": [
       "<matplotlib.figure.Figure at 0x7f748d93f588>"
      ]
     },
     "metadata": {},
     "output_type": "display_data"
    }
   ],
   "source": [
    "# more preprocessing/ model creation, fitting\n",
    "from sklearn.cross_validation import train_test_split\n",
    "from sklearn.metrics import confusion_matrix\n",
    "from sklearn.metrics import accuracy_score\n",
    "from sklearn.ensemble import RandomForestClassifier\n",
    "import numpy as np\n",
    "import matplotlib.pyplot as plt\n",
    "\n",
    "#newDf    = Df.loc[:,['Vibration','eccentricity']]\n",
    "X = new_data.loc[:,['basic', 'inc', 'trans', 'inc_angle']]\n",
    "y = new_data.loc[:,['is_iceberg']]\n",
    "\n",
    "X_train, X_test, y_train, y_test = train_test_split(X, y, test_size=0.3, random_state=42)\n",
    "\n",
    "print(\"X train:\", len(X_train))\n",
    "print(\"X test:\", len(X_test))\n",
    "print(\"y train:\", len(y_train))\n",
    "print(\"y test:\", len(y_test))\n",
    "\n",
    "clf = RandomForestClassifier(n_estimators = 100, n_jobs=2, random_state=0)\n",
    "\n",
    "# fit model\n",
    "clf.fit(X_train, y_train)\n",
    "\n",
    "# get predictions and evaluate\n",
    "preds = clf.predict(X_test)\n",
    "probs = clf.predict_proba(X_test)\n",
    "\n",
    "final_probs = [np.clip(x[1], 0.01, 0.99) for x in probs]\n",
    "print(final_probs)\n",
    "print(preds)\n",
    "print(\"confusion matrix:\")\n",
    "print(confusion_matrix(y_test, preds, labels=[0,1]))\n",
    "print(\" \")\n",
    "print(\"accuracy: \", accuracy_score(y_test, preds))\n",
    "\n",
    "\n",
    "\n",
    "# feature importance\n",
    "print(\"feature importance\")\n",
    "print(list(zip(X_train, clf.feature_importances_)))\n",
    "\n",
    "feat_imp = list(zip(X_train, clf.feature_importances_))\n",
    "# visualize top feature importances\n",
    "# sorting top down\n",
    "imp_sorted = sorted(feat_imp, key=lambda tup: tup[1], reverse=True)\n",
    "\n",
    "# save each seperately\n",
    "feat = [x[0] for x in imp_sorted]\n",
    "score = [x[1] for x in imp_sorted]\n",
    "x_pos = np.arange(len(imp_sorted))\n",
    "\n",
    "\n",
    "# plot the top 20\n",
    "# cant read the names, whatever, can see elbow is around 9\n",
    "plt.bar(x_pos[:20], score[:20],align='center')\n",
    "plt.xticks(x_pos[:20], feat[:20]) \n",
    "plt.ylabel('Feature Importance')\n",
    "plt.show()\n",
    "\n",
    "# showing the top 9\n",
    "plt.bar(x_pos[:9], score[:9],align='center')\n",
    "plt.xticks(x_pos[:9], feat[:9]) \n",
    "plt.ylabel('Feature Importance')\n",
    "plt.show()"
   ]
  },
  {
   "cell_type": "code",
   "execution_count": 67,
   "metadata": {},
   "outputs": [],
   "source": [
    "import pickle\n",
    "\n",
    "# save the model to disk\n",
    "filename = 'rf_ensem_mod.sav'\n",
    "pickle.dump(clf, open(filename, 'wb'))\n",
    " \n",
    "# some time later...\n",
    " \n",
    "# load the model from disk\n",
    "# loaded_model = pickle.load(open(filename, 'rb'))\n",
    "# result = loaded_model.score(X_test, Y_test)\n",
    "# print(result)"
   ]
  }
 ],
 "metadata": {
  "kernelspec": {
   "display_name": "Python 3",
   "language": "python",
   "name": "python3"
  },
  "language_info": {
   "codemirror_mode": {
    "name": "ipython",
    "version": 3
   },
   "file_extension": ".py",
   "mimetype": "text/x-python",
   "name": "python",
   "nbconvert_exporter": "python",
   "pygments_lexer": "ipython3",
   "version": "3.6.3"
  }
 },
 "nbformat": 4,
 "nbformat_minor": 2
}
